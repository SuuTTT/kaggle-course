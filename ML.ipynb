{
 "cells": [
  {
   "cell_type": "markdown",
   "source": [
    "# Lesson 1 2\r\n",
    "read data using pandas\r\n",
    "\r\n",
    "Dot notation, which we use to select the \"prediction target\"\r\n",
    "\r\n",
    "Selecting with a column list, which we use to select the \"features\""
   ],
   "metadata": {}
  },
  {
   "cell_type": "code",
   "execution_count": null,
   "source": [
    "import pandas as pd\r\n",
    "\r\n",
    "melbourne_file_path = '../input/melbourne-housing-snapshot/melb_data.csv'\r\n",
    "melbourne_data = pd.read_csv(melbourne_file_path) \r\n",
    "melbourne_data.columns\r\n",
    "\r\n",
    "y = melbourne_data.Price\r\n",
    "\r\n",
    "melbourne_features = ['Rooms', 'Bathroom', 'Landsize', 'Lattitude', 'Longtitude']\r\n",
    "X = melbourne_data[melbourne_features]\r\n",
    "\r\n",
    "X.describe()\r\n",
    "X.head()"
   ],
   "outputs": [],
   "metadata": {}
  },
  {
   "cell_type": "markdown",
   "source": [
    "\r\n",
    "## Building Your Model\r\n",
    "You will use the scikit-learn library to create your models. When coding, this library is written as sklearn, as you will see in the sample code. Scikit-learn is easily the most popular library for modeling the types of data typically stored in DataFrames.\r\n",
    "\r\n",
    "The steps to building and using a model are:\r\n",
    "\r\n",
    "Define: What type of model will it be? A decision tree? Some other type of model? Some other parameters of the model type are specified too.\r\n",
    "Fit: Capture patterns from provided data. This is the heart of modeling.\r\n",
    "Predict: Just what it sounds like\r\n",
    "Evaluate: Determine how accurate the model's predictions are.\r\n",
    "\r\n",
    "Many machine learning models allow some randomness in model training. Specifying a number for random_state ensures you get the same results in each run"
   ],
   "metadata": {}
  },
  {
   "cell_type": "code",
   "execution_count": null,
   "source": [
    "from sklearn.tree import DecisionTreeRegressor\r\n",
    "\r\n",
    "# Define model. Specify a number for random_state to ensure same results each run\r\n",
    "melbourne_model = DecisionTreeRegressor(random_state=1)\r\n",
    "\r\n",
    "# Fit model\r\n",
    "melbourne_model.fit(X, y)\r\n",
    "\r\n",
    "print(\"Making predictions for the following 5 houses:\")\r\n",
    "print(X.head())\r\n",
    "print(\"The predictions are\")\r\n",
    "print(melbourne_model.predict(X.head()))\r\n",
    "print(\"Actual target values for those homes:\", y.head().tolist())"
   ],
   "outputs": [],
   "metadata": {}
  },
  {
   "cell_type": "markdown",
   "source": [
    "# L3 Validation\r\n",
    "There are many metrics for summarizing model quality, but we'll start with one called Mean Absolute Error (also called *MAE*). Let's break down this metric starting with the last word, error.\r\n",
    "\r\n",
    "The scikit-learn library has a function *train_test_split* to break up the data into two pieces. We'll use some of that data as training data to fit the model, and we'll use the other data as validation data to calculate mean_absolute_error."
   ],
   "metadata": {}
  },
  {
   "cell_type": "code",
   "execution_count": null,
   "source": [
    "from sklearn.metrics import mean_absolute_error\r\n",
    "\r\n",
    "predicted_home_prices = melbourne_model.predict(X)\r\n",
    "mean_absolute_error(y, predicted_home_prices)\r\n",
    "\r\n",
    "from sklearn.model_selection import train_test_split\r\n",
    "\r\n",
    "# split data into training and validation data, for both features and target\r\n",
    "# The split is based on a random number generator. Supplying a numeric value to\r\n",
    "# the random_state argument guarantees we get the same split every time we\r\n",
    "# run this script.\r\n",
    "train_X, val_X, train_y, val_y = train_test_split(X, y, random_state = 0)\r\n",
    "# Define model\r\n",
    "melbourne_model = DecisionTreeRegressor()\r\n",
    "# Fit model\r\n",
    "melbourne_model.fit(train_X, train_y)\r\n",
    "\r\n",
    "# get predicted prices on validation data\r\n",
    "val_predictions = melbourne_model.predict(val_X)\r\n",
    "print(mean_absolute_error(val_y, val_predictions))"
   ],
   "outputs": [],
   "metadata": {}
  },
  {
   "cell_type": "markdown",
   "source": [
    "#L4 overfitting  underfitting\r\n",
    "调参：跑多遍来确定超参数"
   ],
   "metadata": {}
  },
  {
   "cell_type": "markdown",
   "source": [
    "用argmin 和dictionary to simply codes\r\n"
   ],
   "metadata": {}
  },
  {
   "cell_type": "code",
   "execution_count": null,
   "source": [
    "\r\n",
    "best_tree_size = 0\r\n",
    "min_mae=1e9\r\n",
    "for max_leaf_node in candidate_max_leaf_nodes:\r\n",
    "    \r\n",
    "    tmp=get_mae(max_leaf_node,train_X, val_X, train_y, val_y)\r\n",
    "    if min_mae>tmp:\r\n",
    "        min_mae=tmp\r\n",
    "        best_tree_size=max_leaf_node\r\n",
    "#-------\r\n",
    "scores = {leaf_size: get_mae(leaf_size, train_X, val_X, train_y, val_y) for leaf_size in candidate_max_leaf_nodes}\r\n",
    "best_tree_size = min(scores, key=scores.get)\r\n",
    "\r\n",
    "# Fill in argument to make optimal size and uncomment\r\n",
    "final_model = DecisionTreeRegressor(max_leaf_nodes=best_tree_size,random_state=1)\r\n",
    "\r\n",
    "# fit the final model and uncomment the next two lines\r\n",
    "final_model.fit(X,y)"
   ],
   "outputs": [],
   "metadata": {}
  },
  {
   "cell_type": "markdown",
   "source": [
    "# L6 Random Forest\r\n",
    "\r\n",
    "The random forest uses many trees, and it makes a prediction by averaging the predictions of each component tree. It generally has much better predictive accuracy than a single decision tree and it works well with default parameters. If you keep modeling, you can learn more models with even better performance, but many of those are sensitive to getting the right parameters."
   ],
   "metadata": {}
  },
  {
   "cell_type": "markdown",
   "source": [
    "from sklearn.ensemble import RandomForestRegressor\r\n",
    "from sklearn.metrics import mean_absolute_error\r\n",
    "\r\n",
    "forest_model = RandomForestRegressor(random_state=1)\r\n",
    "forest_model.fit(train_X, train_y)\r\n",
    "melb_preds = forest_model.predict(val_X)\r\n",
    "print(mean_absolute_error(val_y, melb_preds))"
   ],
   "metadata": {}
  }
 ],
 "metadata": {
  "orig_nbformat": 4,
  "language_info": {
   "name": "python",
   "version": "3.7.8",
   "mimetype": "text/x-python",
   "codemirror_mode": {
    "name": "ipython",
    "version": 3
   },
   "pygments_lexer": "ipython3",
   "nbconvert_exporter": "python",
   "file_extension": ".py"
  },
  "kernelspec": {
   "name": "python3",
   "display_name": "Python 3.7.8 64-bit"
  },
  "interpreter": {
   "hash": "22800efcd4c49881911a0b2d8a79797207328a6a642f3a84c2d705a7929860d9"
  }
 },
 "nbformat": 4,
 "nbformat_minor": 2
}